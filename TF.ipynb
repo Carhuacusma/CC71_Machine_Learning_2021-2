{
 "cells": [
  {
   "cell_type": "markdown",
   "metadata": {
    "id": "3lGw6pu2F1TY"
   },
   "source": [
    "# Deep Learning haciendo uso de CNN: ResNet\n",
    "---\n",
    "### Trabajo Final del curso Machine Learning\n",
    "### Docente: M.Sc. Richard Fernández \n",
    "\n",
    "**Integrantes**:\n",
    "- Lucas Parodi Roman\n",
    "- Eduardo Contreras\n",
    "- Dante Moreno\n",
    "\n",
    "\n"
   ]
  },
  {
   "cell_type": "markdown",
   "metadata": {
    "id": "4kjyNVnaF1Ti"
   },
   "source": [
    "## 1. Introducción"
   ]
  },
  {
   "cell_type": "markdown",
   "metadata": {
    "id": "B-QEa4iTF1Tk"
   },
   "source": [
    "Deep Learning es un subcampo de Machine Learning, enfocado en algoritmos inspirados por la estructura y funcionalidad de las redes neuronales artificiales $^{[1]}$. El número de capas en una red neuronal es conocido como la profundidad de la red; y Deep Learning aprovecha la capacidad del hardware actual para utilizar redes neuronales más profundas que antes. En las últimas décadas, Deep Learning ha demostrado gran potencial gracias a su habilidad de manejar grandes volúmenes de data. $^{[2]}$\n",
    "\n",
    "El propósito de este trabajo es estudiar y aplicar Deep Learning utilizando redes convolucionales. Para esto, implementamos redes residuales, conocidas también como ResNet, en un caso de estudio. Luego, analizamos los resultados obtenidos para extraer conclusiones y recomendaciones pertinentes al caso de estudio."
   ]
  },
  {
   "cell_type": "markdown",
   "metadata": {
    "id": "tiISQaUzF1Tl"
   },
   "source": [
    "## 2. Marco Teórico"
   ]
  },
  {
   "cell_type": "markdown",
   "metadata": {
    "id": "h8yVeSN_F1Tn"
   },
   "source": [
    "### 2.1. Redes Neuronales Convolucionales"
   ]
  },
  {
   "cell_type": "markdown",
   "metadata": {
    "id": "Pk7IFw1rF1Tp"
   },
   "source": [
    "En 2012, la visión computacional presenció un gran avance cuando un grupo de investigadores de la Universidad de Toronto desarrolló AlexNet, un sistema que se basaba en redes convolucionales artificiales, o CNN por sus siglas en inglés. $^{[2]}$ Este modelo superó a los mejores algoritmos de reconocimiento de imágenes por un amplio margen. Estas redes usan una técnica especial llamada Convolución, con la que reducen las imágenes a una forma que es más fácil de procesar."
   ]
  },
  {
   "cell_type": "markdown",
   "metadata": {
    "id": "6J7cuWth1ioO"
   },
   "source": [
    "<img src='https://editor.analyticsvidhya.com/uploads/183560_qcMBDPuKpDvICcdd.png'>\n",
    "\n",
    "*Convolutional Neural Network* $^{[2]}$"
   ]
  },
  {
   "cell_type": "markdown",
   "metadata": {
    "id": "6gN9CKOfF1Tq"
   },
   "source": [
    "### 2.2. Aprendizaje Residual"
   ]
  },
  {
   "cell_type": "markdown",
   "metadata": {
    "id": "8dkRxPvUF1Ts"
   },
   "source": [
    "El uso de redes neuronales convolucionales ha generado un gran avance en el estudio de visión computacional. Aunque crear redes más profundas, es decir, con más capas, podría parecer una forma de mejorar los resultados, en realidad vuelve más díficil el entrenamiento. Esto es llamado un problema de degradación: conforme la profundidad de la red aumenta, su resultado en accuracy disminuye rápidamente$^{[3]}$. La gradiente que se usa para entrenar a la red es propagada hacia atrás, y las multiplicaciones repetidas pueden hacer que esta gradiente se vuelve mínima$^{[4]}$. \n",
    "\n",
    "Los autores de ResNet reformularon el método tradicional de entrenar capas una tras otra. Según ellos: \"si se plantea la hipótesis de que múltiples capas no lineales pueden aproximarse asintóticamente a funciones complicadas, entonces es equivalente plantear la hipótesis de que pueden aproximarse asintóticamente a las funciones residuales\"$^{[3]}$. Es decir, no es necesario que las capas estén en una pila para optimizar la red.\n",
    "\n",
    "Para aplicar esto, se forman bloques residuales; donde existe una conección directa que salta alguna capas intermedias, llamada *skip connection*, que es el núcleo de estos bloques residuales$^{[5]}^$."
   ]
  },
  {
   "cell_type": "markdown",
   "metadata": {},
   "source": [
    "<img src='https://miro.medium.com/max/408/1*ByrVJspW-TefwlH7OLxNkg.png'>\n",
    "\n",
    "*Un bloque residual*$^{[4]}$"
   ]
  },
  {
   "cell_type": "markdown",
   "metadata": {
    "id": "i6hxKM98F1Tu"
   },
   "source": [
    "### 2.3. Redes Residuales"
   ]
  },
  {
   "cell_type": "markdown",
   "metadata": {
    "id": "BIoCHOXvF1Tw"
   },
   "source": [
    "<p>Una red neuronal residual, también conocida como ResNet, es una red neuronal artificial que se inspira en el hecho biológico de que algunas neuronas se conectan con neuronas en capas no necesariamente contiguas, saltando capas intermedias.</p>\n",
    "<img src='https://datascience.eu/wp-content/uploads/2020/09/image-27.png'>\n",
    "<p>Una razón de peso para saltar capas es evitar los gradientes que se desvanecen y cuestiones similares. Como el gradiente se retropropaga a las capas anteriores, este proceso repetido puede hacer que el gradiente sea extremadamente pequeño.</p>\n",
    "<p>El salto elimina las complicaciones de la red, haciéndola más simple, usando muy pocas capas durante la etapa de entrenamiento inicial. Acelera el aprendizaje por diez veces, minimizando el efecto de la desaparición de los gradientes. Después de esto, la red eventualmente vuelve a poner las capas hábiles mientras aprende el espacio de las características.</p>"
   ]
  },
  {
   "cell_type": "markdown",
   "metadata": {},
   "source": [
    "Los resultados de ResNet son evidentes. Mientras el enfoque tradicional de redes neuronales no mejora al agregar más capas por el problema de degradación, ResNet puede presentar cambios positivos con redes profundas.\n",
    "\n",
    "<img src='https://d1m75rqqgidzqn.cloudfront.net/wp-data/2020/09/09195100/0_AMK5ylLHQQ3CLQzk.png'>\n",
    "\n",
    "*Comparación de la evolución del error entre redes planas tradicionales y ResNet de 18 y 34 capas*$^{[5]}$"
   ]
  },
  {
   "cell_type": "markdown",
   "metadata": {
    "id": "i6hxKM98F1Tu"
   },
   "source": [
    "### 2.4. Arquitectura de ResNet50"
   ]
  },
  {
   "cell_type": "markdown",
   "metadata": {},
   "source": [
    "<p>Para el proyecto utilizaremos el ResNet50. La arquitectura de este modelo tiene 4 <b>etapas</b> como se puede apreciar en la siguiente imagen. La red puede tomar la imagen de entrada con alto y ancho como múltiplos de 32 y 3 como ancho de canal.</p> \n",
    "<p>En este caso, estamos utilizando imagenes de 224 x 224 x 3 píxeles, cuyos alto y ancho son múltiplos de 32 x 7. Cada arquitectura ResNet realiza la convolución inicial y el max-pooling utilizando tamaños de núcleo de 7×7 y 3×3 respectivamente.</p>\n",
    "<p>Una vez realizada la convolución inicial, comienza la etapa 1. Esta tiene 3 bloques residuales que contienen 3 capas cada uno. El tamaño de los kernels utilizados para realizar la operación de convolución en las 3 capas del bloque de la etapa 1 son 64, 64 y 128 respectivamente. Las flechas curvas se refieren a la conexión de identidad. La flecha discontinua conectada representa que la operación de convolución en el bloque residual se realiza con el segundo salto, por lo que el tamaño de la entrada se reducirá a la mitad en términos de alto y ancho, pero el ancho del canal se duplicará. A medida que avanzamos de una etapa a otra, el ancho del canal se duplica y el tamaño de la entrada se reduce a la mitad.\n",
    "</p>\n",
    "<p>Para ResNet50 se utiliza el diseño de cuello de botella. Para cada función residual F, se apilan 3 capas una sobre otra. Las tres capas son convoluciones 1×1, 3×3 y 1×1. Las capas de convolución 1×1 se encargan de reducir y luego restaurar las dimensiones. La capa 3×3 queda como cuello de botella con dimensiones de entrada/salida más pequeñas.</p>\n",
    "<p>Por último, la red tiene una capa <b>Average Pooling</b> seguida de una capa <b>Fully Connected</b> que tiene 1000 neuronas.</p>\n",
    "<img src='https://cdn-5f733ed3c1ac190fbc56ef88.closte.com/wp-content/uploads/2019/07/ResNet50_architecture-1.png'>"
   ]
  },
  {
   "cell_type": "markdown",
   "metadata": {
    "id": "eN8B_2H7F1Tx"
   },
   "source": [
    "## 3. Caso de Estudio"
   ]
  },
  {
   "cell_type": "markdown",
   "metadata": {},
   "source": [
    "El dataset UISketch$^{[8]}$ contiene imágenes de bosquejos de diferentes elementos que pertenecen a la interfaz de usuario. El conjunto de datos contiene los atributos:\n",
    "* $name$: Nombre del archivo donde se guarda la imagen del bosquejo de elemento de UI.\n",
    "* $label$: Etiqueta con la que se identifica el tipo de elemento de UI.\n",
    "* $medium$: Medio con el cual se desarrolló el bosquejo; puede ser digital o papel.\n",
    "* $device$: Dispositivo."
   ]
  },
  {
   "cell_type": "markdown",
   "metadata": {},
   "source": [
    "### 3.1. Exploración de datos"
   ]
  },
  {
   "cell_type": "code",
   "execution_count": 1,
   "metadata": {},
   "outputs": [],
   "source": [
    "# Librerías:\n",
    "import numpy as np\n",
    "import pandas as pd\n",
    "import cv2\n",
    "import matplotlib.pyplot as plt\n",
    "# ......................\n",
    "# >> NOTA: Pasar a leer data_under en la celda al final de preprocesamiento"
   ]
  },
  {
   "cell_type": "markdown",
   "metadata": {},
   "source": [
    "Leemos el dataset *labels*, que consta de 19000 instancias de bosquejos de elementos de una interfaz de usuario."
   ]
  },
  {
   "cell_type": "code",
   "execution_count": 131,
   "metadata": {},
   "outputs": [
    {
     "name": "stdout",
     "output_type": "stream",
     "text": [
      "Filas:  19000\n"
     ]
    },
    {
     "data": {
      "text/html": [
       "<div>\n",
       "<style scoped>\n",
       "    .dataframe tbody tr th:only-of-type {\n",
       "        vertical-align: middle;\n",
       "    }\n",
       "\n",
       "    .dataframe tbody tr th {\n",
       "        vertical-align: top;\n",
       "    }\n",
       "\n",
       "    .dataframe thead th {\n",
       "        text-align: right;\n",
       "    }\n",
       "</style>\n",
       "<table border=\"1\" class=\"dataframe\">\n",
       "  <thead>\n",
       "    <tr style=\"text-align: right;\">\n",
       "      <th></th>\n",
       "      <th>name</th>\n",
       "      <th>label</th>\n",
       "      <th>medium</th>\n",
       "      <th>device</th>\n",
       "    </tr>\n",
       "  </thead>\n",
       "  <tbody>\n",
       "    <tr>\n",
       "      <th>0</th>\n",
       "      <td>alert/0000.jpg</td>\n",
       "      <td>alert</td>\n",
       "      <td>digital</td>\n",
       "      <td>stylus</td>\n",
       "    </tr>\n",
       "    <tr>\n",
       "      <th>1</th>\n",
       "      <td>alert/0001.jpg</td>\n",
       "      <td>alert</td>\n",
       "      <td>digital</td>\n",
       "      <td>stylus</td>\n",
       "    </tr>\n",
       "    <tr>\n",
       "      <th>2</th>\n",
       "      <td>alert/0002.jpg</td>\n",
       "      <td>alert</td>\n",
       "      <td>paper</td>\n",
       "      <td>pen</td>\n",
       "    </tr>\n",
       "    <tr>\n",
       "      <th>3</th>\n",
       "      <td>alert/0003.jpg</td>\n",
       "      <td>alert</td>\n",
       "      <td>digital</td>\n",
       "      <td>stylus</td>\n",
       "    </tr>\n",
       "    <tr>\n",
       "      <th>4</th>\n",
       "      <td>alert/0004.jpg</td>\n",
       "      <td>alert</td>\n",
       "      <td>paper</td>\n",
       "      <td>pen</td>\n",
       "    </tr>\n",
       "  </tbody>\n",
       "</table>\n",
       "</div>"
      ],
      "text/plain": [
       "             name  label   medium  device\n",
       "0  alert/0000.jpg  alert  digital  stylus\n",
       "1  alert/0001.jpg  alert  digital  stylus\n",
       "2  alert/0002.jpg  alert    paper     pen\n",
       "3  alert/0003.jpg  alert  digital  stylus\n",
       "4  alert/0004.jpg  alert    paper     pen"
      ]
     },
     "execution_count": 131,
     "metadata": {},
     "output_type": "execute_result"
    }
   ],
   "source": [
    "data = pd.read_csv('data/labels.csv')\n",
    "print(\"Filas: \", len(data))\n",
    "data.head()"
   ]
  },
  {
   "cell_type": "markdown",
   "metadata": {},
   "source": [
    "Con los nombres de los archivos .jpg que guardan las imágenes, podemos leer también las imágenes."
   ]
  },
  {
   "cell_type": "code",
   "execution_count": 3,
   "metadata": {},
   "outputs": [],
   "source": [
    "# Función para agregar una columna de imágenes al dataset\n",
    "def add_images(data):\n",
    "    imgs = []\n",
    "    for r in data['name']:\n",
    "        img = cv2.imread('data/%s'%str(r))\n",
    "        imgs.append(img)\n",
    "    data[\"image\"] = imgs\n",
    "    return data"
   ]
  },
  {
   "cell_type": "markdown",
   "metadata": {},
   "source": [
    "Podemos ver, por ejemplo, un bosquejo que corresponde a la fila:\n",
    "\n",
    "label | medium | device\n",
    "--- | --- | ---\n",
    "alert | paper | pen\n",
    "\n",
    "Es decir, una alerta dibujada en papel, con un lápiz."
   ]
  },
  {
   "cell_type": "code",
   "execution_count": 4,
   "metadata": {},
   "outputs": [
    {
     "data": {
      "text/plain": [
       "<matplotlib.image.AxesImage at 0x26debffd4e0>"
      ]
     },
     "execution_count": 4,
     "metadata": {},
     "output_type": "execute_result"
    },
    {
     "data": {
      "image/png": "[encoded data removed]",
      "text/plain": [
       "<Figure size 432x288 with 1 Axes>"
      ]
     },
     "metadata": {
      "needs_background": "light"
     },
     "output_type": "display_data"
    }
   ],
   "source": [
    "plt.imshow(cv2.imread('data/%s'%str(data['name'][2]))) # Paper"
   ]
  },
  {
   "cell_type": "markdown",
   "metadata": {},
   "source": [
    "Podemos examinar a profundidad las variables nominales de este conjunto de datos:"
   ]
  },
  {
   "cell_type": "code",
   "execution_count": 5,
   "metadata": {},
   "outputs": [
    {
     "name": "stdout",
     "output_type": "stream",
     "text": [
      "label \t: 21 valores únicos\n",
      "medium \t: 2 valores únicos\n",
      "device \t: 6 valores únicos\n"
     ]
    }
   ],
   "source": [
    "columnas = data.columns\n",
    "for c in columnas[1:4]:\n",
    "    print(f'{c} \\t: {len(pd.unique(data[c]))} valores únicos')"
   ]
  },
  {
   "cell_type": "markdown",
   "metadata": {},
   "source": [
    "Podemos comparar las variables *medium* y *device* para analizar si existe alguna relación entre estas."
   ]
  },
  {
   "cell_type": "code",
   "execution_count": 6,
   "metadata": {},
   "outputs": [
    {
     "name": "stdout",
     "output_type": "stream",
     "text": [
      "medium  digital  paper\n",
      "device                \n",
      "finger       65      0\n",
      "mouse       131      0\n",
      "pen           0   4015\n",
      "pencil        0   1490\n",
      "stylus    13276      0\n"
     ]
    },
    {
     "data": {
      "image/png": "[encoded data removed]",
      "text/plain": [
       "<Figure size 288x288 with 1 Axes>"
      ]
     },
     "metadata": {
      "needs_background": "light"
     },
     "output_type": "display_data"
    }
   ],
   "source": [
    "print(pd.crosstab(data[\"device\"],data[\"medium\"]))\n",
    "Medium = pd.crosstab(data[\"device\"],data[\"medium\"])\n",
    "Medium.div(Medium.sum(1).astype(float),axis=0).plot(kind=\"bar\",stacked=True,figsize=(4,4))\n",
    "plt.xlabel(\"Device\")\n",
    "plt.ylabel(\"Percentage\")\n",
    "plt.show()"
   ]
  },
  {
   "cell_type": "markdown",
   "metadata": {},
   "source": [
    "La variable *medium* y *paper* están claramente relacionadas.\n",
    "Aquellos bosquejos realizados en papel fueron hechos con las herramientas esperadas: lápiz o lapicero. Por otro lado, el medio digital permite que los diseñadores usen otros dispositivos, como su dedo, mouse, o *stylus* (similar a un lápiz, para dibujos digitales).\n",
    "\n",
    "Además, notamos que se identificaron únicamente 5 valores únicos en *device*, por lo que el sexto valor señalado por la función $unique()$ podría ser el resultado de valores nulos. Para eso, vemos un resumen de los datos:"
   ]
  },
  {
   "cell_type": "code",
   "execution_count": 7,
   "metadata": {},
   "outputs": [
    {
     "name": "stdout",
     "output_type": "stream",
     "text": [
      "<class 'pandas.core.frame.DataFrame'>\n",
      "RangeIndex: 19000 entries, 0 to 18999\n",
      "Data columns (total 4 columns):\n",
      "name      19000 non-null object\n",
      "label     19000 non-null object\n",
      "medium    19000 non-null object\n",
      "device    18977 non-null object\n",
      "dtypes: object(4)\n",
      "memory usage: 593.8+ KB\n"
     ]
    }
   ],
   "source": [
    "data.info()"
   ]
  },
  {
   "cell_type": "markdown",
   "metadata": {},
   "source": [
    "La columna *device* tiene 23 datos vacíos. Por lo tanto, si deseamos usarla, necesitamos llenar esos datos.\n",
    "\n",
    "Entonces, elegimos como variable objetivo *medium*, sin datos faltantes, en lugar de *device*, donde sería redundante la información sobre el medio (digital o papel). Evaluamos la distribución de esta variable nominal:"
   ]
  },
  {
   "cell_type": "code",
   "execution_count": 132,
   "metadata": {},
   "outputs": [
    {
     "data": {
      "text/plain": [
       "<matplotlib.axes._subplots.AxesSubplot at 0x241fc5c6198>"
      ]
     },
     "execution_count": 132,
     "metadata": {},
     "output_type": "execute_result"
    },
    {
     "data": {
      "image/png": "[encoded data removed]",
      "text/plain": [
       "<Figure size 432x288 with 1 Axes>"
      ]
     },
     "metadata": {
      "needs_background": "light"
     },
     "output_type": "display_data"
    }
   ],
   "source": [
    "import seaborn as sns\n",
    "\n",
    "sns.countplot(data['medium'])"
   ]
  },
  {
   "cell_type": "markdown",
   "metadata": {},
   "source": [
    "El conjunto de datos está desbalanceado, pues hay muchos más ejemplos de bosquejos hechos digitalmente que a mano."
   ]
  },
  {
   "cell_type": "code",
   "execution_count": 133,
   "metadata": {},
   "outputs": [
    {
     "data": {
      "text/plain": [
       "<matplotlib.axes._subplots.AxesSubplot at 0x241f51ff668>"
      ]
     },
     "execution_count": 133,
     "metadata": {},
     "output_type": "execute_result"
    },
    {
     "data": {
      "image/png": "[encoded data removed]",
      "text/plain": [
       "<Figure size 432x288 with 1 Axes>"
      ]
     },
     "metadata": {
      "needs_background": "light"
     },
     "output_type": "display_data"
    }
   ],
   "source": [
    "sns.countplot(data['label'])"
   ]
  },
  {
   "cell_type": "code",
   "execution_count": 136,
   "metadata": {},
   "outputs": [
    {
     "data": {
      "text/plain": [
       "button                    1019\n",
       "image                      983\n",
       "text_field                 975\n",
       "checkbox_unchecked         963\n",
       "checkbox_checked           962\n",
       "label                      957\n",
       "switch_enabled             927\n",
       "card                       908\n",
       "radio_button_unchecked     907\n",
       "switch_disabled            905\n",
       "floating_action_button     898\n",
       "chip                       877\n",
       "radio_button_checked       868\n",
       "menu                       866\n",
       "data_table                 863\n",
       "slider                     863\n",
       "grid_list                  857\n",
       "text_area                  853\n",
       "dropdown_menu              852\n",
       "alert                      850\n",
       "tooltip                    847\n",
       "Name: label, dtype: int64"
      ]
     },
     "execution_count": 136,
     "metadata": {},
     "output_type": "execute_result"
    }
   ],
   "source": [
    "data['label'].value_counts()"
   ]
  },
  {
   "cell_type": "markdown",
   "metadata": {},
   "source": [
    "### 3.2. Preprocesamiento"
   ]
  },
  {
   "cell_type": "markdown",
   "metadata": {},
   "source": [
    "### 3.2.1. Under Sampling"
   ]
  },
  {
   "cell_type": "code",
   "execution_count": 9,
   "metadata": {},
   "outputs": [],
   "source": [
    "import random"
   ]
  },
  {
   "cell_type": "code",
   "execution_count": 10,
   "metadata": {},
   "outputs": [
    {
     "name": "stdout",
     "output_type": "stream",
     "text": [
      "Diferencia entre Digital y Paper: 7990\n"
     ]
    }
   ],
   "source": [
    "n = len(data[data['medium'] == 'digital']) - len(data[data['medium'] == 'paper'])\n",
    "print(f'Diferencia entre Digital y Paper: {n}')"
   ]
  },
  {
   "cell_type": "code",
   "execution_count": 11,
   "metadata": {},
   "outputs": [
    {
     "name": "stdout",
     "output_type": "stream",
     "text": [
      "Filas con imágenes digitales: [0, 1, 3, 5, 6]\n"
     ]
    }
   ],
   "source": [
    "digital_index = [i for i in data[data['medium'] == 'digital'].index]\n",
    "print('Filas con imágenes digitales:', digital_index[:5])"
   ]
  },
  {
   "cell_type": "markdown",
   "metadata": {},
   "source": [
    "De entre todas las instancias con bosquejos digitales, marcamos aleatoriamente 7990 para su eliminación, y así tener un conjunto de datos balanceado."
   ]
  },
  {
   "cell_type": "code",
   "execution_count": 12,
   "metadata": {},
   "outputs": [
    {
     "name": "stdout",
     "output_type": "stream",
     "text": [
      "Se van a eliminar 7990 filas\n"
     ]
    },
    {
     "data": {
      "text/plain": [
       "[797, 6016, 8116, 13645, 17350]"
      ]
     },
     "execution_count": 12,
     "metadata": {},
     "output_type": "execute_result"
    }
   ],
   "source": [
    "random_drop = random.sample(digital_index, n)\n",
    "print(f'Se van a eliminar {len(random_drop)} filas')\n",
    "random_drop[:5]"
   ]
  },
  {
   "cell_type": "code",
   "execution_count": 13,
   "metadata": {},
   "outputs": [],
   "source": [
    "data = data.drop(random_drop)"
   ]
  },
  {
   "cell_type": "code",
   "execution_count": 14,
   "metadata": {},
   "outputs": [
    {
     "data": {
      "text/plain": [
       "11010"
      ]
     },
     "execution_count": 14,
     "metadata": {},
     "output_type": "execute_result"
    }
   ],
   "source": [
    "len(data)"
   ]
  },
  {
   "cell_type": "markdown",
   "metadata": {},
   "source": [
    "Adicionalmente, dado que solamente usaremos la columna de entrada (*image*) y la etiqueta *medium*, también soltamos las demás columnas."
   ]
  },
  {
   "cell_type": "code",
   "execution_count": 15,
   "metadata": {},
   "outputs": [
    {
     "name": "stdout",
     "output_type": "stream",
     "text": [
      "Index(['name', 'medium'], dtype='object')\n"
     ]
    }
   ],
   "source": [
    "data = data.drop(columns=['label', 'device'])\n",
    "print(data.columns)"
   ]
  },
  {
   "cell_type": "markdown",
   "metadata": {},
   "source": [
    "Guardamos el DataFrame resultante:"
   ]
  },
  {
   "cell_type": "code",
   "execution_count": 16,
   "metadata": {},
   "outputs": [],
   "source": [
    "data.to_csv('data/data_under.csv',index=False)"
   ]
  },
  {
   "cell_type": "markdown",
   "metadata": {},
   "source": [
    "Validamos que funcione:"
   ]
  },
  {
   "cell_type": "code",
   "execution_count": 2,
   "metadata": {},
   "outputs": [
    {
     "name": "stdout",
     "output_type": "stream",
     "text": [
      "11010\n",
      "Index(['name', 'medium'], dtype='object')\n"
     ]
    }
   ],
   "source": [
    "data = pd.read_csv('data/data_under.csv')\n",
    "print(len(data))\n",
    "print(data.columns)"
   ]
  },
  {
   "cell_type": "code",
   "execution_count": 4,
   "metadata": {},
   "outputs": [],
   "source": [
    "imgs = []\n",
    "for r in data['name']:\n",
    "    img = cv2.imread('data/%s'%str(r))\n",
    "    imgs.append(img)\n",
    "data[\"image\"] = imgs"
   ]
  },
  {
   "cell_type": "markdown",
   "metadata": {},
   "source": [
    "### 3.2.2. Reshaping"
   ]
  },
  {
   "cell_type": "code",
   "execution_count": 5,
   "metadata": {},
   "outputs": [
    {
     "data": {
      "text/plain": [
       "(11010,)"
      ]
     },
     "execution_count": 5,
     "metadata": {},
     "output_type": "execute_result"
    }
   ],
   "source": [
    "data['image'].values.shape"
   ]
  },
  {
   "cell_type": "markdown",
   "metadata": {},
   "source": [
    "Los datos de entrada serán las imágenes:"
   ]
  },
  {
   "cell_type": "code",
   "execution_count": 6,
   "metadata": {},
   "outputs": [
    {
     "name": "stdout",
     "output_type": "stream",
     "text": [
      "(11010,)\n",
      "(11010,)\n",
      "['digital' 'paper' 'digital' 'paper' 'paper']\n"
     ]
    }
   ],
   "source": [
    "X = np.array(data.iloc[:,-1].values) #.to_numpy()\n",
    "y = np.array(data.iloc[:,1].values) #.to_numpy()\n",
    "print(X.shape)\n",
    "print(y.shape)\n",
    "print(y[:5])"
   ]
  },
  {
   "cell_type": "code",
   "execution_count": 7,
   "metadata": {},
   "outputs": [
    {
     "data": {
      "text/plain": [
       "array([0, 1, 0, 1, 1], dtype=object)"
      ]
     },
     "execution_count": 7,
     "metadata": {},
     "output_type": "execute_result"
    }
   ],
   "source": [
    "lut = {'digital': 0, 'paper': 1}\n",
    "for i in range(len(y)):\n",
    "    y[i] = lut[y[i]]\n",
    "y[:5]"
   ]
  },
  {
   "cell_type": "markdown",
   "metadata": {},
   "source": [
    "Para su ingreso en ResNet, necesitamos asegurar que $X$ sea considerado un arreglo de 4 dimensiones:"
   ]
  },
  {
   "cell_type": "code",
   "execution_count": 8,
   "metadata": {},
   "outputs": [
    {
     "data": {
      "text/plain": [
       "(11010, 224, 224, 3)"
      ]
     },
     "execution_count": 8,
     "metadata": {},
     "output_type": "execute_result"
    }
   ],
   "source": [
    "#X = np.array([np.array(x, dtype=np.uint8) for x in X], dtype=np.uint8)\n",
    "X = np.array([x for x in X], dtype=np.uint8)\n",
    "X.shape"
   ]
  },
  {
   "cell_type": "code",
   "execution_count": 9,
   "metadata": {},
   "outputs": [
    {
     "data": {
      "text/plain": [
       "(11010, 1)"
      ]
     },
     "execution_count": 9,
     "metadata": {},
     "output_type": "execute_result"
    }
   ],
   "source": [
    "y = np.array(y.reshape((y.shape[0],1)), dtype=np.uint8)\n",
    "y.shape"
   ]
  },
  {
   "cell_type": "markdown",
   "metadata": {},
   "source": [
    "### 3.2.3. Dividir en Training y Test"
   ]
  },
  {
   "cell_type": "code",
   "execution_count": 10,
   "metadata": {},
   "outputs": [
    {
     "name": "stdout",
     "output_type": "stream",
     "text": [
      "Entrenamiento: 8808 imágenes, cada una de (224, 224, 3) dimensiones\n"
     ]
    }
   ],
   "source": [
    "from sklearn.model_selection import train_test_split\n",
    "X_train, X_test, y_train, y_test = train_test_split(X, y, test_size = 0.20)\n",
    "\n",
    "print(f'Entrenamiento: {len(X_train)} imágenes, cada una de {X_train[0].shape} dimensiones')"
   ]
  },
  {
   "cell_type": "code",
   "execution_count": 77,
   "metadata": {},
   "outputs": [],
   "source": [
    "from keras.datasets import mnist\n",
    "import matplotlib.pyplot as plt\n",
    "# load (downloaded if needed) the MNIST dataset\n",
    "(X_train_mnist, y_train_mnist), (X_test_mnist, y_test_mnist) = mnist.load_data()"
   ]
  },
  {
   "cell_type": "code",
   "execution_count": 78,
   "metadata": {},
   "outputs": [
    {
     "data": {
      "text/plain": [
       "(60000, 28, 28)"
      ]
     },
     "execution_count": 78,
     "metadata": {},
     "output_type": "execute_result"
    }
   ],
   "source": [
    "X_train_mnist.shape"
   ]
  },
  {
   "cell_type": "code",
   "execution_count": 80,
   "metadata": {},
   "outputs": [],
   "source": [
    "from PIL import Image\n",
    "\n",
    "def norm_image(img):\n",
    "    new_img = np.array(img)\n",
    "    new_img.resize((32,32))\n",
    "    return new_img"
   ]
  },
  {
   "cell_type": "code",
   "execution_count": 82,
   "metadata": {},
   "outputs": [
    {
     "data": {
      "text/plain": [
       "(32, 32)"
      ]
     },
     "execution_count": 82,
     "metadata": {},
     "output_type": "execute_result"
    }
   ],
   "source": [
    "norm_image(X_train_mnist[0]).shape"
   ]
  },
  {
   "cell_type": "code",
   "execution_count": 83,
   "metadata": {},
   "outputs": [],
   "source": [
    "X_train_mnist = [norm_image(x) for x in X_train_mnist]"
   ]
  },
  {
   "cell_type": "code",
   "execution_count": 84,
   "metadata": {},
   "outputs": [
    {
     "data": {
      "text/plain": [
       "(60000, 32, 32)"
      ]
     },
     "execution_count": 84,
     "metadata": {},
     "output_type": "execute_result"
    }
   ],
   "source": [
    "X_train_mnist = np.array(X_train_mnist)\n",
    "X_train_mnist.shape"
   ]
  },
  {
   "cell_type": "code",
   "execution_count": 85,
   "metadata": {},
   "outputs": [],
   "source": [
    "X_train_mnist.shape = (60000,32,32,1)"
   ]
  },
  {
   "cell_type": "code",
   "execution_count": 97,
   "metadata": {},
   "outputs": [],
   "source": [
    "y_train_mnist.shape = (60000,1)"
   ]
  },
  {
   "cell_type": "markdown",
   "metadata": {},
   "source": [
    "### 3.3. ResNet"
   ]
  },
  {
   "cell_type": "code",
   "execution_count": 98,
   "metadata": {
    "id": "ta5-CMxFF1T3"
   },
   "outputs": [],
   "source": [
    "import tensorflow as tf\n",
    "from tensorflow import keras\n",
    "from tensorflow.keras import layers"
   ]
  },
  {
   "cell_type": "code",
   "execution_count": 110,
   "metadata": {
    "id": "_vTwiiKtF1T5"
   },
   "outputs": [
    {
     "name": "stdout",
     "output_type": "stream",
     "text": [
      "Input Shape: (224, 224, 3)\n",
      "Inputs (Keras): KerasTensor(type_spec=TensorSpec(shape=(None, 224, 224, 3), dtype=tf.float32, name='input_11'), name='input_11', description=\"created by layer 'input_11'\")\n",
      "Clases posibles: 2\n"
     ]
    }
   ],
   "source": [
    "input_shape = X_train.shape[1:]\n",
    "inputs = keras.Input(shape=input_shape)\n",
    "classes = 2\n",
    "\n",
    "print(f'Input Shape: {input_shape}')\n",
    "print(f'Inputs (Keras): {inputs}')\n",
    "print(f'Clases posibles: {classes}')"
   ]
  },
  {
   "cell_type": "code",
   "execution_count": 109,
   "metadata": {},
   "outputs": [
    {
     "name": "stdout",
     "output_type": "stream",
     "text": [
      "Input Shape: (32, 32, 1)\n",
      "Inputs (Keras): KerasTensor(type_spec=TensorSpec(shape=(None, 32, 32, 1), dtype=tf.float32, name='input_10'), name='input_10', description=\"created by layer 'input_10'\")\n",
      "Clases posibles: 2\n"
     ]
    }
   ],
   "source": [
    "input_shape = X_train_mnist.shape[1:]\n",
    "inputs = keras.Input(shape=input_shape)\n",
    "classes = 2\n",
    "\n",
    "print(f'Input Shape: {input_shape}')\n",
    "print(f'Inputs (Keras): {inputs}')\n",
    "print(f'Clases posibles: {classes}')"
   ]
  },
  {
   "cell_type": "code",
   "execution_count": 111,
   "metadata": {},
   "outputs": [],
   "source": [
    "x = layers.Rescaling(1.0 / 255)(inputs)"
   ]
  },
  {
   "cell_type": "code",
   "execution_count": 112,
   "metadata": {},
   "outputs": [],
   "source": [
    "outputs = keras.applications.ResNet50(  # Add the rest of the model\n",
    "    weights=None, input_shape=input_shape, classes=classes\n",
    ")(x)"
   ]
  },
  {
   "cell_type": "code",
   "execution_count": 113,
   "metadata": {},
   "outputs": [],
   "source": [
    "model = keras.Model(inputs, outputs)\n",
    "model.compile(optimizer=\"rmsprop\", loss=\"sparse_categorical_crossentropy\")"
   ]
  },
  {
   "cell_type": "code",
   "execution_count": 114,
   "metadata": {},
   "outputs": [],
   "source": [
    "train_dataset = tf.data.Dataset.from_tensor_slices((X_train, y_train))"
   ]
  },
  {
   "cell_type": "code",
   "execution_count": 115,
   "metadata": {},
   "outputs": [],
   "source": [
    "# Create a data augmentation stage with horizontal flipping, rotations, zooms\n",
    "data_augmentation = keras.Sequential(\n",
    "    [\n",
    "        layers.RandomFlip(\"horizontal\"),\n",
    "        layers.RandomRotation(0.1),\n",
    "        layers.RandomZoom(0.1),\n",
    "    ]\n",
    ")"
   ]
  },
  {
   "cell_type": "code",
   "execution_count": 116,
   "metadata": {},
   "outputs": [
    {
     "name": "stdout",
     "output_type": "stream",
     "text": [
      "WARNING:tensorflow:AutoGraph could not transform <function <lambda> at 0x00000241F8F451E0> and will run it as-is.\n",
      "Please report this to the TensorFlow team. When filing the bug, set the verbosity to 10 (on Linux, `export AUTOGRAPH_VERBOSITY=10`) and attach the full output.\n",
      "Cause: 'arguments' object has no attribute 'posonlyargs'\n",
      "To silence this warning, decorate the function with @tf.autograph.experimental.do_not_convert\n",
      "WARNING: AutoGraph could not transform <function <lambda> at 0x00000241F8F451E0> and will run it as-is.\n",
      "Please report this to the TensorFlow team. When filing the bug, set the verbosity to 10 (on Linux, `export AUTOGRAPH_VERBOSITY=10`) and attach the full output.\n",
      "Cause: 'arguments' object has no attribute 'posonlyargs'\n",
      "To silence this warning, decorate the function with @tf.autograph.experimental.do_not_convert\n"
     ]
    }
   ],
   "source": [
    "train_dataset = train_dataset.batch(16).map(lambda x, y: (data_augmentation(x), y))"
   ]
  },
  {
   "cell_type": "code",
   "execution_count": 117,
   "metadata": {},
   "outputs": [],
   "source": [
    "# Para que puedan correr así \n",
    "tf.config.run_functions_eagerly(True)\n",
    "tf.data.experimental.enable_debug_mode()"
   ]
  },
  {
   "cell_type": "code",
   "execution_count": 118,
   "metadata": {},
   "outputs": [
    {
     "name": "stdout",
     "output_type": "stream",
     "text": [
      "Epoch 1/10\n",
      "5/5 [==============================] - 88s 18s/step - loss: 5.1398\n",
      "Epoch 2/10\n",
      "5/5 [==============================] - 106s 21s/step - loss: 1.4686\n",
      "Epoch 3/10\n",
      "5/5 [==============================] - 104s 21s/step - loss: 1.2679\n",
      "Epoch 4/10\n",
      "5/5 [==============================] - 110s 22s/step - loss: 1.6235\n",
      "Epoch 5/10\n",
      "5/5 [==============================] - 104s 20s/step - loss: 0.7125\n",
      "Epoch 6/10\n",
      "5/5 [==============================] - 100s 20s/step - loss: 1.1632\n",
      "Epoch 7/10\n",
      "5/5 [==============================] - 105s 21s/step - loss: 0.9352\n",
      "Epoch 8/10\n",
      "5/5 [==============================] - 113s 23s/step - loss: 0.8405\n",
      "Epoch 9/10\n",
      "5/5 [==============================] - 99s 20s/step - loss: 1.1723\n",
      "Epoch 10/10\n",
      "5/5 [==============================] - 98s 20s/step - loss: 0.8629\n"
     ]
    },
    {
     "data": {
      "text/plain": [
       "<keras.callbacks.History at 0x242d01342e8>"
      ]
     },
     "execution_count": 118,
     "metadata": {},
     "output_type": "execute_result"
    }
   ],
   "source": [
    "model.fit(train_dataset, steps_per_epoch=5, epochs=10)"
   ]
  },
  {
   "cell_type": "markdown",
   "metadata": {
    "id": "-RUBzFthF1T6"
   },
   "source": [
    "### 3.1. Resultados del modelo"
   ]
  },
  {
   "cell_type": "markdown",
   "metadata": {},
   "source": [
    "Realizamos una predicción del conjunto de datos de prueba:"
   ]
  },
  {
   "cell_type": "code",
   "execution_count": 119,
   "metadata": {},
   "outputs": [],
   "source": [
    "from sklearn.metrics import classification_report, confusion_matrix\n",
    "from sklearn.metrics import plot_confusion_matrix\n",
    "from sklearn.metrics import roc_curve, auc, roc_auc_score"
   ]
  },
  {
   "cell_type": "code",
   "execution_count": 120,
   "metadata": {},
   "outputs": [],
   "source": [
    "y_pred = model.predict(X_test)"
   ]
  },
  {
   "cell_type": "code",
   "execution_count": 121,
   "metadata": {
    "id": "PeVHmeXNF1T7"
   },
   "outputs": [],
   "source": [
    "def which_one(pred):\n",
    "    \"Retorna puntualmente cuál tiene la mayor probabilidad\"\n",
    "    res = []\n",
    "    for i, v in enumerate(pred):\n",
    "        res.append([i,v])\n",
    "    res.sort(key=lambda x: x[1], reverse=True)\n",
    "    #print(res)\n",
    "    return res[0][0]\n",
    "\n",
    "y_pred_flat = [which_one(i) for i in y_pred]"
   ]
  },
  {
   "cell_type": "code",
   "execution_count": 122,
   "metadata": {},
   "outputs": [
    {
     "data": {
      "text/plain": [
       "array([1, 1, 0, ..., 1, 1, 0], dtype=uint8)"
      ]
     },
     "execution_count": 122,
     "metadata": {},
     "output_type": "execute_result"
    }
   ],
   "source": [
    "y_test_flat = y_test.reshape((2202,))\n",
    "y_test_flat"
   ]
  },
  {
   "cell_type": "markdown",
   "metadata": {},
   "source": [
    "Podemos ver el resultado para las primeras 10 instancias:"
   ]
  },
  {
   "cell_type": "code",
   "execution_count": 123,
   "metadata": {},
   "outputs": [
    {
     "name": "stdout",
     "output_type": "stream",
     "text": [
      "Pred: 1 Test: 1\n",
      "Pred: 1 Test: 1\n",
      "Pred: 1 Test: 0\n",
      "Pred: 1 Test: 0\n",
      "Pred: 1 Test: 1\n",
      "Pred: 1 Test: 0\n",
      "Pred: 1 Test: 0\n",
      "Pred: 1 Test: 0\n",
      "Pred: 1 Test: 0\n",
      "Pred: 1 Test: 0\n"
     ]
    }
   ],
   "source": [
    "for i in range(10):\n",
    "    print(f'Pred: {which_one(y_pred[i])} Test: {y_test_flat[i]}')"
   ]
  },
  {
   "cell_type": "code",
   "execution_count": 124,
   "metadata": {},
   "outputs": [],
   "source": [
    "cm = confusion_matrix(y_test_flat, y_pred_flat)"
   ]
  },
  {
   "cell_type": "code",
   "execution_count": 125,
   "metadata": {},
   "outputs": [
    {
     "data": {
      "text/html": [
       "<div>\n",
       "<style scoped>\n",
       "    .dataframe tbody tr th:only-of-type {\n",
       "        vertical-align: middle;\n",
       "    }\n",
       "\n",
       "    .dataframe tbody tr th {\n",
       "        vertical-align: top;\n",
       "    }\n",
       "\n",
       "    .dataframe thead th {\n",
       "        text-align: right;\n",
       "    }\n",
       "</style>\n",
       "<table border=\"1\" class=\"dataframe\">\n",
       "  <thead>\n",
       "    <tr style=\"text-align: right;\">\n",
       "      <th></th>\n",
       "      <th>digital</th>\n",
       "      <th>paper</th>\n",
       "    </tr>\n",
       "  </thead>\n",
       "  <tbody>\n",
       "    <tr>\n",
       "      <th>0</th>\n",
       "      <td>0</td>\n",
       "      <td>1092</td>\n",
       "    </tr>\n",
       "    <tr>\n",
       "      <th>1</th>\n",
       "      <td>0</td>\n",
       "      <td>1110</td>\n",
       "    </tr>\n",
       "  </tbody>\n",
       "</table>\n",
       "</div>"
      ],
      "text/plain": [
       "   digital  paper\n",
       "0        0   1092\n",
       "1        0   1110"
      ]
     },
     "execution_count": 125,
     "metadata": {},
     "output_type": "execute_result"
    }
   ],
   "source": [
    "pd.DataFrame(cm, \n",
    "             columns = ['digital', 'paper'])"
   ]
  },
  {
   "cell_type": "code",
   "execution_count": 126,
   "metadata": {},
   "outputs": [
    {
     "name": "stdout",
     "output_type": "stream",
     "text": [
      "              precision    recall  f1-score   support\n",
      "\n",
      "           0       0.00      0.00      0.00      1092\n",
      "           1       0.50      1.00      0.67      1110\n",
      "\n",
      "    accuracy                           0.50      2202\n",
      "   macro avg       0.25      0.50      0.34      2202\n",
      "weighted avg       0.25      0.50      0.34      2202\n",
      "\n"
     ]
    },
    {
     "name": "stderr",
     "output_type": "stream",
     "text": [
      "C:\\Users\\HP\\Anaconda3\\lib\\site-packages\\sklearn\\metrics\\_classification.py:1308: UndefinedMetricWarning: Precision and F-score are ill-defined and being set to 0.0 in labels with no predicted samples. Use `zero_division` parameter to control this behavior.\n",
      "  _warn_prf(average, modifier, msg_start, len(result))\n",
      "C:\\Users\\HP\\Anaconda3\\lib\\site-packages\\sklearn\\metrics\\_classification.py:1308: UndefinedMetricWarning: Precision and F-score are ill-defined and being set to 0.0 in labels with no predicted samples. Use `zero_division` parameter to control this behavior.\n",
      "  _warn_prf(average, modifier, msg_start, len(result))\n",
      "C:\\Users\\HP\\Anaconda3\\lib\\site-packages\\sklearn\\metrics\\_classification.py:1308: UndefinedMetricWarning: Precision and F-score are ill-defined and being set to 0.0 in labels with no predicted samples. Use `zero_division` parameter to control this behavior.\n",
      "  _warn_prf(average, modifier, msg_start, len(result))\n"
     ]
    }
   ],
   "source": [
    "print(classification_report(y_test_flat, y_pred_flat))"
   ]
  },
  {
   "cell_type": "code",
   "execution_count": 127,
   "metadata": {},
   "outputs": [
    {
     "name": "stdout",
     "output_type": "stream",
     "text": [
      "Este modelo presenta un AUC de 0.4631855756855757\n"
     ]
    }
   ],
   "source": [
    "false_positive_rate, true_positive_rate, thresholds = roc_curve(y_test_flat, y_pred[:,1])\n",
    "roc_auc = auc(false_positive_rate, true_positive_rate)\n",
    "print(f'Este modelo presenta un AUC de {roc_auc}')"
   ]
  },
  {
   "cell_type": "code",
   "execution_count": 128,
   "metadata": {},
   "outputs": [
    {
     "data": {
      "image/png": "[encoded data removed]",
      "text/plain": [
       "<Figure size 432x288 with 1 Axes>"
      ]
     },
     "metadata": {
      "needs_background": "light"
     },
     "output_type": "display_data"
    }
   ],
   "source": [
    "plt.title('Receiver Operating Characteristic')\n",
    "plt.plot(false_positive_rate,true_positive_rate, color='red',label = 'AUC = %0.2f' % roc_auc)\n",
    "plt.legend(loc = 'lower right')\n",
    "plt.plot([0, 1], [0, 1],linestyle='--')\n",
    "plt.axis('tight')\n",
    "plt.ylabel('True Positive Rate')\n",
    "plt.xlabel('False Positive Rate')\n",
    "plt.show()"
   ]
  },
  {
   "cell_type": "markdown",
   "metadata": {
    "id": "ES3uCxmLF1T8"
   },
   "source": [
    "## 4. Conclusiones"
   ]
  },
  {
   "cell_type": "markdown",
   "metadata": {
    "id": "xgOwAPp9YJAZ"
   },
   "source": []
  },
  {
   "cell_type": "markdown",
   "metadata": {
    "id": "7lOafM-oF1T9"
   },
   "source": [
    "## 5. Recomendaciones"
   ]
  },
  {
   "cell_type": "markdown",
   "metadata": {},
   "source": []
  },
  {
   "cell_type": "markdown",
   "metadata": {
    "id": "KiPgNpeMF1T-"
   },
   "source": [
    "## Referencias bibliográficas:\n",
    "\n",
    "1. Brownlee, J. (16 de agosto de 2019). What is Deep Learning?. *Machine Learning Mastery* Recuperado de: https://machinelearningmastery.com/what-is-deep-learning/ \n",
    "2. Mandal, M. (1 de mayo de 2021). Introduction to Convolutional Neural Networks (CNN). *Analytics Vidha*. Recuperado de: https://www.analyticsvidhya.com/blog/2021/05/convolutional-neural-networks-cnn/\n",
    "3. He, K., Zhang, X., Ren, S., & Sun, J. (2015). *Deep Residual Learning for Image Recognition* Recuperado de: https://arxiv.org/abs/1512.03385\n",
    "4. Feng, V. (15 de julio de 2020). An Overview of ResNet and its Variants. *Towards Data Science*. Recuperado de: https://towardsdatascience.com/an-overview-of-resnet-and-its-variants-5281e2f56035\n",
    "5. Mutjaba, H. (28 de septiembre de 2020). Introduction to Resnet or Residual Network. *Great Learning*. Recuperado de: https://www.mygreatlearning.com/blog/resnet/ \n",
    "6. Boesch, G. (29 de agosto de 2021). Deep Residual Networks (ResNet, ResNet50) – Guide in 2021 *Viso.ai*. Recuperado de: https://viso.ai/deep-learning/resnet-residual-neural-network/\n",
    "7. TensorFlow (12 de Noviembre de 2021) *Trabajar con capas de preprocesamiento* Recuperado de: https://www.tensorflow.org/guide/keras/preprocessing_layers\n",
    "8. Pandian, V. (2021). UISketch Dataset *Kaggle* Recuperado de: https://www.kaggle.com/vinothpandian/uisketch "
   ]
  }
 ],
 "metadata": {
  "colab": {
   "collapsed_sections": [
    "4kjyNVnaF1Ti",
    "6gN9CKOfF1Tq",
    "eN8B_2H7F1Tx",
    "ES3uCxmLF1T8"
   ],
   "include_colab_link": true,
   "name": "TF.ipynb",
   "provenance": []
  },
  "kernelspec": {
   "display_name": "Python 3",
   "language": "python",
   "name": "python3"
  },
  "language_info": {
   "codemirror_mode": {
    "name": "ipython",
    "version": 3
   },
   "file_extension": ".py",
   "mimetype": "text/x-python",
   "name": "python",
   "nbconvert_exporter": "python",
   "pygments_lexer": "ipython3",
   "version": "3.7.3"
  }
 },
 "nbformat": 4,
 "nbformat_minor": 4
}
