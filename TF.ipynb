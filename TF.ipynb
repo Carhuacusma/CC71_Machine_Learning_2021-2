{
 "cells": [
  {
   "cell_type": "markdown",
   "metadata": {
    "colab_type": "text",
    "id": "view-in-github"
   },
   "source": [
    "<a href=\"https://colab.research.google.com/github/Carhuacusma/CC71_Machine_Learning_2021-2/blob/main/TF.ipynb\" target=\"_parent\"><img src=\"https://colab.research.google.com/assets/colab-badge.svg\" alt=\"Open In Colab\"/></a>"
   ]
  },
  {
   "cell_type": "markdown",
   "metadata": {
    "id": "3lGw6pu2F1TY"
   },
   "source": [
    "# Deep Learning haciendo uso de CNN: ResNet\n",
    "---\n",
    "### Trabajo Final del curso Machine Learning\n",
    "\n",
    "**Docente**: \n",
    "- Richard Fernández\n",
    "\n",
    "**Integrantes**:\n",
    "- Luis Parodi\n",
    "- Eduardo Contreras\n",
    "- Dante Moreno\n",
    "\n",
    "\n"
   ]
  },
  {
   "cell_type": "markdown",
   "metadata": {
    "id": "4kjyNVnaF1Ti"
   },
   "source": [
    "## 1. Introducción"
   ]
  },
  {
   "cell_type": "markdown",
   "metadata": {
    "id": "B-QEa4iTF1Tk"
   },
   "source": [
    "Deep Learning es un subcampo de Machine Learning, enfocado en algoritmos inspirados por la estructura y funcionalidad de las redes neuronales artificiales $^{[1]}$. El número de capas en una red neuronal es conocido como la profundidad de la red; y Deep Learning aprovecha la capacidad del hardware actual para utilizar redes neuronales más profundas que antes. En las últimas décadas, Deep Learning ha demostrado gran potencial gracias a su habilidad de manejar grandes volúmenes de data. $^{[2]}$\n",
    "\n",
    "El propósito de este trabajo es estudiar y aplicar Deep Learning utilizando redes convolucionales. Para esto, implementamos redes residuales, conocidas también como ResNet, en un caso de estudio. Luego, analizamos los resultados obtenidos para extraer conclusiones y recomendaciones pertinentes al caso de estudio."
   ]
  },
  {
   "cell_type": "markdown",
   "metadata": {
    "id": "tiISQaUzF1Tl"
   },
   "source": [
    "## 2. Marco Teórico"
   ]
  },
  {
   "cell_type": "markdown",
   "metadata": {
    "id": "h8yVeSN_F1Tn"
   },
   "source": [
    "### 2.1. Redes Neuronales Convolucionales"
   ]
  },
  {
   "cell_type": "markdown",
   "metadata": {
    "id": "Pk7IFw1rF1Tp"
   },
   "source": [
    "En 2012, la visión computacional presenció un gran avance cuando un grupo de investigadores de la Universidad de Toronto desarrolló AlexNet, un sistema que se basaba en redes convolucionales artificiales, o CNN por sus siglas en inglés. $^{[2]}$ Este modelo superó a los mejores algoritmos de reconocimiento de imágenes por un amplio margen."
   ]
  },
  {
   "cell_type": "markdown",
   "metadata": {
    "id": "6J7cuWth1ioO"
   },
   "source": [
    "<img src='https://editor.analyticsvidhya.com/uploads/183560_qcMBDPuKpDvICcdd.png'>\n",
    "\n",
    "*Convolutional Neural Network* $^{[2]}$"
   ]
  },
  {
   "cell_type": "markdown",
   "metadata": {
    "id": "6gN9CKOfF1Tq"
   },
   "source": [
    "### 2.2. Aprendizaje Residual"
   ]
  },
  {
   "cell_type": "markdown",
   "metadata": {
    "id": "8dkRxPvUF1Ts"
   },
   "source": [
    "El uso de redes neuronales convolucionales ha generado un gran avance en el estudio de visión computacional. Aunque crear redes más profundas, es decir, con más capas, podría parecer una forma de mejorar los resultados, en realidad vuelve más díficil el entrenamiento. Esto es llamado un problema de degradación: conforme la profundidad de la red aumenta, su resultado en accuracy disminuye rápidamente$^{[3]}$."
   ]
  },
  {
   "cell_type": "markdown",
   "metadata": {
    "id": "i6hxKM98F1Tu"
   },
   "source": [
    "### 2.3. Redes Residuales"
   ]
  },
  {
   "cell_type": "markdown",
   "metadata": {
    "id": "BIoCHOXvF1Tw"
   },
   "source": []
  },
  {
   "cell_type": "markdown",
   "metadata": {
    "id": "eN8B_2H7F1Tx"
   },
   "source": [
    "## 3. Caso de Estudio"
   ]
  },
  {
   "cell_type": "markdown",
   "metadata": {},
   "source": [
    "El dataset UISketch$^{[8]}$ contiene imágenes de bosquejos de diferentes elementos que pertenecen a la interfaz de usuario."
   ]
  },
  {
   "cell_type": "code",
   "execution_count": 11,
   "metadata": {},
   "outputs": [],
   "source": [
    "import numpy as np\n",
    "import pandas as pd\n",
    "import cv2\n",
    "import matplotlib.pyplot as plt"
   ]
  },
  {
   "cell_type": "code",
   "execution_count": 12,
   "metadata": {},
   "outputs": [
    {
     "name": "stdout",
     "output_type": "stream",
     "text": [
      "Filas:  19000\n"
     ]
    },
    {
     "data": {
      "text/html": [
       "<div>\n",
       "<style scoped>\n",
       "    .dataframe tbody tr th:only-of-type {\n",
       "        vertical-align: middle;\n",
       "    }\n",
       "\n",
       "    .dataframe tbody tr th {\n",
       "        vertical-align: top;\n",
       "    }\n",
       "\n",
       "    .dataframe thead th {\n",
       "        text-align: right;\n",
       "    }\n",
       "</style>\n",
       "<table border=\"1\" class=\"dataframe\">\n",
       "  <thead>\n",
       "    <tr style=\"text-align: right;\">\n",
       "      <th></th>\n",
       "      <th>name</th>\n",
       "      <th>label</th>\n",
       "      <th>medium</th>\n",
       "      <th>device</th>\n",
       "    </tr>\n",
       "  </thead>\n",
       "  <tbody>\n",
       "    <tr>\n",
       "      <th>0</th>\n",
       "      <td>alert/0000.jpg</td>\n",
       "      <td>alert</td>\n",
       "      <td>digital</td>\n",
       "      <td>stylus</td>\n",
       "    </tr>\n",
       "    <tr>\n",
       "      <th>1</th>\n",
       "      <td>alert/0001.jpg</td>\n",
       "      <td>alert</td>\n",
       "      <td>digital</td>\n",
       "      <td>stylus</td>\n",
       "    </tr>\n",
       "    <tr>\n",
       "      <th>2</th>\n",
       "      <td>alert/0002.jpg</td>\n",
       "      <td>alert</td>\n",
       "      <td>paper</td>\n",
       "      <td>pen</td>\n",
       "    </tr>\n",
       "    <tr>\n",
       "      <th>3</th>\n",
       "      <td>alert/0003.jpg</td>\n",
       "      <td>alert</td>\n",
       "      <td>digital</td>\n",
       "      <td>stylus</td>\n",
       "    </tr>\n",
       "    <tr>\n",
       "      <th>4</th>\n",
       "      <td>alert/0004.jpg</td>\n",
       "      <td>alert</td>\n",
       "      <td>paper</td>\n",
       "      <td>pen</td>\n",
       "    </tr>\n",
       "  </tbody>\n",
       "</table>\n",
       "</div>"
      ],
      "text/plain": [
       "             name  label   medium  device\n",
       "0  alert/0000.jpg  alert  digital  stylus\n",
       "1  alert/0001.jpg  alert  digital  stylus\n",
       "2  alert/0002.jpg  alert    paper     pen\n",
       "3  alert/0003.jpg  alert  digital  stylus\n",
       "4  alert/0004.jpg  alert    paper     pen"
      ]
     },
     "execution_count": 12,
     "metadata": {},
     "output_type": "execute_result"
    }
   ],
   "source": [
    "data_labels = pd.read_csv('data/labels.csv')\n",
    "print(\"Filas: \", len(data_labels))\n",
    "data_labels.head()"
   ]
  },
  {
   "cell_type": "code",
   "execution_count": 9,
   "metadata": {},
   "outputs": [
    {
     "name": "stdout",
     "output_type": "stream",
     "text": [
      "<class 'pandas.core.frame.DataFrame'>\n",
      "RangeIndex: 19000 entries, 0 to 18999\n",
      "Data columns (total 4 columns):\n",
      "name      19000 non-null object\n",
      "label     19000 non-null object\n",
      "medium    19000 non-null object\n",
      "device    18977 non-null object\n",
      "dtypes: object(4)\n",
      "memory usage: 593.8+ KB\n"
     ]
    }
   ],
   "source": [
    "data_labels.info()"
   ]
  },
  {
   "cell_type": "code",
   "execution_count": 6,
   "metadata": {},
   "outputs": [
    {
     "data": {
      "text/plain": [
       "array(['stylus', 'pen', 'pencil', 'finger', 'mouse', nan], dtype=object)"
      ]
     },
     "execution_count": 6,
     "metadata": {},
     "output_type": "execute_result"
    }
   ],
   "source": [
    "pd.unique(data_labels['device'])"
   ]
  },
  {
   "cell_type": "code",
   "execution_count": 15,
   "metadata": {},
   "outputs": [
    {
     "data": {
      "text/plain": [
       "<matplotlib.axes._subplots.AxesSubplot at 0x1d48feba2b0>"
      ]
     },
     "execution_count": 15,
     "metadata": {},
     "output_type": "execute_result"
    },
    {
     "data": {
      "image/png": "[encoded data removed]",
      "text/plain": [
       "<Figure size 432x288 with 1 Axes>"
      ]
     },
     "metadata": {
      "needs_background": "light"
     },
     "output_type": "display_data"
    }
   ],
   "source": [
    "data_labels['label'].value_counts().plot.bar()"
   ]
  },
  {
   "cell_type": "code",
   "execution_count": 21,
   "metadata": {},
   "outputs": [],
   "source": [
    "imgs = []\n",
    "for r in data_labels['name']:\n",
    "    img = cv2.imread('data/%s'%str(r))\n",
    "    imgs.append(img)"
   ]
  },
  {
   "cell_type": "code",
   "execution_count": 23,
   "metadata": {},
   "outputs": [
    {
     "data": {
      "text/plain": [
       "<matplotlib.image.AxesImage at 0x1d48fdb59b0>"
      ]
     },
     "execution_count": 23,
     "metadata": {},
     "output_type": "execute_result"
    },
    {
     "data": {
      "image/png": "[encoded data removed]",
      "text/plain": [
       "<Figure size 432x288 with 1 Axes>"
      ]
     },
     "metadata": {
      "needs_background": "light"
     },
     "output_type": "display_data"
    }
   ],
   "source": [
    "plt.imshow(imgs[5])"
   ]
  },
  {
   "cell_type": "code",
   "execution_count": null,
   "metadata": {
    "id": "ta5-CMxFF1T3"
   },
   "outputs": [],
   "source": [
    "import matplotliblow as tf"
   ]
  },
  {
   "cell_type": "code",
   "execution_count": null,
   "metadata": {
    "id": "_vTwiiKtF1T5"
   },
   "outputs": [],
   "source": [
    "model = tf.keras.applications.ResNet50(\n",
    "    include_top=True,\n",
    "    weights=\"imagenet\",\n",
    "    input_tensor=None,\n",
    "    input_shape=None,\n",
    "    pooling=None,\n",
    "    classes=1000)"
   ]
  },
  {
   "cell_type": "markdown",
   "metadata": {
    "id": "-RUBzFthF1T6"
   },
   "source": [
    "### 3.1. Resultados del modelo"
   ]
  },
  {
   "cell_type": "code",
   "execution_count": null,
   "metadata": {
    "id": "PeVHmeXNF1T7"
   },
   "outputs": [],
   "source": []
  },
  {
   "cell_type": "markdown",
   "metadata": {
    "id": "ES3uCxmLF1T8"
   },
   "source": [
    "## 4. Conclusiones"
   ]
  },
  {
   "cell_type": "markdown",
   "metadata": {
    "id": "xgOwAPp9YJAZ"
   },
   "source": []
  },
  {
   "cell_type": "markdown",
   "metadata": {
    "id": "7lOafM-oF1T9"
   },
   "source": [
    "## 5. Recomendaciones"
   ]
  },
  {
   "cell_type": "markdown",
   "metadata": {
    "id": "KiPgNpeMF1T-"
   },
   "source": [
    "## Referencias bibliográficas:\n",
    "\n",
    "1. Brownlee, J. (16 de agosto de 2019). What is Deep Learning?. *Machine Learning Mastery* Recuperado de: https://machinelearningmastery.com/what-is-deep-learning/ \n",
    "2. Mandal, M. (1 de mayo de 2021). Introduction to Convolutional Neural Networks (CNN). *Analytics Vidha*. Recuperado de: https://www.analyticsvidhya.com/blog/2021/05/convolutional-neural-networks-cnn/\n",
    "3. He, K., Zhang, X., Ren, S., & Sun, J. (2015). *Deep Residual Learning for Image Recognition* Recuperado de: https://arxiv.org/abs/1512.03385\n",
    "4. Feng, V. (15 de julio de 2020). An Overview of ResNet and its Variants. *Towards Data Science*. Recuperado de: https://towardsdatascience.com/an-overview-of-resnet-and-its-variants-5281e2f56035\n",
    "5. Mutjaba, H. (28 de septiembre de 2020). Introduction to Resnet or Residual Network. *Great Learning*. Recuperado de: https://www.mygreatlearning.com/blog/resnet/ \n",
    "6. Boesch, G. (29 de agosto de 2021). Deep Residual Networks (ResNet, ResNet50) – Guide in 2021 *Viso.ai*. Recuperado de: https://viso.ai/deep-learning/resnet-residual-neural-network/\n",
    "7. TensorFlow (12 de Noviembre de 2021) Recuperado de: https://www.tensorflow.org/guide/keras/preprocessing_layers\n",
    "8. Pandian, V. (2021). UISketch Dataset *Kaggle* Recuperado de: https://www.kaggle.com/vinothpandian/uisketch "
   ]
  }
 ],
 "metadata": {
  "colab": {
   "collapsed_sections": [
    "4kjyNVnaF1Ti",
    "6gN9CKOfF1Tq",
    "eN8B_2H7F1Tx",
    "ES3uCxmLF1T8"
   ],
   "include_colab_link": true,
   "name": "TF.ipynb",
   "provenance": []
  },
  "kernelspec": {
   "display_name": "Python 3",
   "language": "python",
   "name": "python3"
  },
  "language_info": {
   "codemirror_mode": {
    "name": "ipython",
    "version": 3
   },
   "file_extension": ".py",
   "mimetype": "text/x-python",
   "name": "python",
   "nbconvert_exporter": "python",
   "pygments_lexer": "ipython3",
   "version": "3.7.3"
  }
 },
 "nbformat": 4,
 "nbformat_minor": 4
}
