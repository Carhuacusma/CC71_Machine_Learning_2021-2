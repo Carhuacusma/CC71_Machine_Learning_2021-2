{
  "nbformat": 4,
  "nbformat_minor": 0,
  "metadata": {
    "kernelspec": {
      "display_name": "Python 3",
      "language": "python",
      "name": "python3"
    },
    "language_info": {
      "codemirror_mode": {
        "name": "ipython",
        "version": 3
      },
      "file_extension": ".py",
      "mimetype": "text/x-python",
      "name": "python",
      "nbconvert_exporter": "python",
      "pygments_lexer": "ipython3",
      "version": "3.7.3"
    },
    "colab": {
      "name": "TF.ipynb",
      "provenance": [],
      "collapsed_sections": [
        "4kjyNVnaF1Ti",
        "6gN9CKOfF1Tq",
        "eN8B_2H7F1Tx",
        "ES3uCxmLF1T8"
      ],
      "include_colab_link": true
    }
  },
  "cells": [
    {
      "cell_type": "markdown",
      "metadata": {
        "id": "view-in-github",
        "colab_type": "text"
      },
      "source": [
        "<a href=\"https://colab.research.google.com/github/Carhuacusma/CC71_Machine_Learning_2021-2/blob/main/TF.ipynb\" target=\"_parent\"><img src=\"https://colab.research.google.com/assets/colab-badge.svg\" alt=\"Open In Colab\"/></a>"
      ]
    },
    {
      "cell_type": "markdown",
      "metadata": {
        "id": "3lGw6pu2F1TY"
      },
      "source": [
        "# Deep Learning haciendo uso de CNN: ResNet\n",
        "---\n",
        "### Trabajo Final del curso Machine Learning\n",
        "\n",
        "**Docente**: \n",
        "- Richard Fernández\n",
        "\n",
        "**Integrantes**:\n",
        "- Luis Parodi\n",
        "- Eduardo Contreras\n",
        "- Dante Moreno\n",
        "\n",
        "\n"
      ]
    },
    {
      "cell_type": "markdown",
      "metadata": {
        "id": "4kjyNVnaF1Ti"
      },
      "source": [
        "## 1. Introducción"
      ]
    },
    {
      "cell_type": "markdown",
      "metadata": {
        "id": "B-QEa4iTF1Tk"
      },
      "source": [
        "Deep Learning es un subcampo de Machine Learning, enfocado en algoritmos inspirados por la estructura y funcionalidad de las redes neuronales artificiales $^{[1]}$. El número de capas en una red neuronal es conocido como la profundidad de la red; y Deep Learning aprovecha la capacidad del hardware actual para utilizar redes neuronales más profundas que antes. En las últimas décadas, Deep Learning ha demostrado gran potencial gracias a su habilidad de manejar grandes volúmenes de data. $^{[2]}$\n",
        "\n",
        "El propósito de este trabajo es estudiar y aplicar Deep Learning utilizando redes convolucionales. Para esto, implementamos redes residuales, conocidas también como ResNet, en un caso de estudio. Luego, analizamos los resultados obtenidos para extraer conclusiones y recomendaciones pertinentes al caso de estudio."
      ]
    },
    {
      "cell_type": "markdown",
      "metadata": {
        "id": "tiISQaUzF1Tl"
      },
      "source": [
        "## 2. Marco Teórico"
      ]
    },
    {
      "cell_type": "markdown",
      "metadata": {
        "id": "h8yVeSN_F1Tn"
      },
      "source": [
        "### 2.1. Redes Neuronales Convolucionales"
      ]
    },
    {
      "cell_type": "markdown",
      "metadata": {
        "id": "Pk7IFw1rF1Tp"
      },
      "source": [
        "En 2012, la visión computacional presenció un gran avance cuando un grupo de investigadores de la Universidad de Toronto desarrolló AlexNet, un sistema que se basaba en redes convolucionales artificiales, o CNN por sus siglas en inglés. $^{[2]}$ Este modelo superó a los mejores algoritmos de reconocimiento de imágenes por un amplio margen."
      ]
    },
    {
      "cell_type": "markdown",
      "metadata": {
        "id": "6J7cuWth1ioO"
      },
      "source": [
        "<img src='https://editor.analyticsvidhya.com/uploads/183560_qcMBDPuKpDvICcdd.png'>\n",
        "\n",
        "*Convolutional Neural Network* $^{[2]}$"
      ]
    },
    {
      "cell_type": "markdown",
      "metadata": {
        "id": "6gN9CKOfF1Tq"
      },
      "source": [
        "### 2.2. Aprendizaje Residual"
      ]
    },
    {
      "cell_type": "markdown",
      "metadata": {
        "id": "8dkRxPvUF1Ts"
      },
      "source": [
        "El uso de redes neuronales convolucionales ha generado un gran avance en el estudio de visión computacional. Aunque crear redes más profundas, es decir, con más capas, podría parecer una forma de mejorar los resultados, en realidad vuelve más díficil el entrenamiento. Esto es llamado un problema de degradación: conforme la profundidad de la red aumenta, su resultado en accuracy disminuye rápidamente$^{[3]}$."
      ]
    },
    {
      "cell_type": "markdown",
      "metadata": {
        "id": "i6hxKM98F1Tu"
      },
      "source": [
        "### 2.3. Redes Residuales"
      ]
    },
    {
      "cell_type": "markdown",
      "metadata": {
        "id": "BIoCHOXvF1Tw"
      },
      "source": [
        ""
      ]
    },
    {
      "cell_type": "markdown",
      "metadata": {
        "id": "eN8B_2H7F1Tx"
      },
      "source": [
        "## 3. Caso de Estudio"
      ]
    },
    {
      "cell_type": "code",
      "metadata": {
        "id": "ta5-CMxFF1T3"
      },
      "source": [
        "import tensorflow as tf"
      ],
      "execution_count": null,
      "outputs": []
    },
    {
      "cell_type": "code",
      "metadata": {
        "id": "_vTwiiKtF1T5"
      },
      "source": [
        "model = tf.keras.applications.ResNet50(\n",
        "    include_top=True,\n",
        "    weights=\"imagenet\",\n",
        "    input_tensor=None,\n",
        "    input_shape=None,\n",
        "    pooling=None,\n",
        "    classes=1000)"
      ],
      "execution_count": null,
      "outputs": []
    },
    {
      "cell_type": "markdown",
      "metadata": {
        "id": "-RUBzFthF1T6"
      },
      "source": [
        "### 3.1. Resultados del modelo"
      ]
    },
    {
      "cell_type": "code",
      "metadata": {
        "id": "PeVHmeXNF1T7"
      },
      "source": [
        ""
      ],
      "execution_count": null,
      "outputs": []
    },
    {
      "cell_type": "markdown",
      "metadata": {
        "id": "ES3uCxmLF1T8"
      },
      "source": [
        "## 4. Conclusiones"
      ]
    },
    {
      "cell_type": "markdown",
      "metadata": {
        "id": "xgOwAPp9YJAZ"
      },
      "source": [
        ""
      ]
    },
    {
      "cell_type": "markdown",
      "metadata": {
        "id": "7lOafM-oF1T9"
      },
      "source": [
        "## 5. Recomendaciones"
      ]
    },
    {
      "cell_type": "markdown",
      "metadata": {
        "id": "KiPgNpeMF1T-"
      },
      "source": [
        "## Referencias bibliográficas:\n",
        "\n",
        "1. Brownlee, J. (16 de agosto de 2019). What is Deep Learning?. *Machine Learning Mastery* Recuperado de: https://machinelearningmastery.com/what-is-deep-learning/ \n",
        "2. Mandal, M. (1 de mayo de 2021). Introduction to Convolutional Neural Networks (CNN). *Analytics Vidha*. Recuperado de: https://www.analyticsvidhya.com/blog/2021/05/convolutional-neural-networks-cnn/\n",
        "3. He, K., Zhang, X., Ren, S., & Sun, J. (2015). *Deep Residual Learning for Image Recognition* Recuperado de: https://arxiv.org/abs/1512.03385\n",
        "4. Feng, V. (15 de julio de 2020). An Overview of ResNet and its Variants. *Towards Data Science*. Recuperado de: https://towardsdatascience.com/an-overview-of-resnet-and-its-variants-5281e2f56035\n",
        "5. Mutjaba, H. (28 de septiembre de 2020). Introduction to Resnet or Residual Network. *Great Learning*. Recuperado de: https://www.mygreatlearning.com/blog/resnet/ \n",
        "6. Boesch, G. (29 de agosto de 2021). Deep Residual Networks (ResNet, ResNet50) – Guide in 2021 *Viso.ai*. Recuperado de: https://viso.ai/deep-learning/resnet-residual-neural-network/\n",
        "7. TensorFlow (12 de Noviembre de 2021) Recuperado de: https://www.tensorflow.org/guide/keras/preprocessing_layers\n",
        "8. Pandian, V. (2021). UISketch Dataset *Kaggle* Recuperado de: https://www.kaggle.com/vinothpandian/uisketch "
      ]
    }
  ]
}